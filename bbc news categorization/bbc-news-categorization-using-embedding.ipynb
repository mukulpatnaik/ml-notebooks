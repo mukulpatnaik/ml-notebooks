{
 "cells": [
  {
   "cell_type": "markdown",
   "metadata": {
    "papermill": {
     "duration": 0.006866,
     "end_time": "2020-09-02T13:03:23.251222",
     "exception": false,
     "start_time": "2020-09-02T13:03:23.244356",
     "status": "completed"
    },
    "tags": []
   },
   "source": [
    "## BBC News Categorization using Keras\n",
    "\n",
    "\n",
    "The dataset contains 5 news categories namely: business, entertainment, politics, sport, and tech. \n",
    "\n",
    "There are 2225 rows and 4 columns. However, only 2 columns (category and content) are used.\n",
    "\n"
   ]
  },
  {
   "cell_type": "code",
   "execution_count": 1,
   "metadata": {
    "_cell_guid": "b1076dfc-b9ad-4769-8c92-a6c4dae69d19",
    "_uuid": "8f2839f25d086af736a60e9eeb907d3b93b6e0e5",
    "execution": {
     "iopub.execute_input": "2020-09-02T13:03:23.278823Z",
     "iopub.status.busy": "2020-09-02T13:03:23.277647Z",
     "iopub.status.idle": "2020-09-02T13:03:30.658280Z",
     "shell.execute_reply": "2020-09-02T13:03:30.657573Z"
    },
    "papermill": {
     "duration": 7.401316,
     "end_time": "2020-09-02T13:03:30.658428",
     "exception": false,
     "start_time": "2020-09-02T13:03:23.257112",
     "status": "completed"
    },
    "tags": []
   },
   "outputs": [],
   "source": [
    "import csv\n",
    "import numpy as np\n",
    "import pandas as pd\n",
    "import matplotlib.pyplot as plt\n",
    "\n",
    "\n",
    "from tensorflow import keras\n",
    "from keras import layers\n",
    "from keras.preprocessing.text import Tokenizer\n",
    "from keras.preprocessing.sequence import pad_sequences\n",
    "\n",
    "stopwords = [ \"a\", \"about\", \"above\", \"after\", \"again\", \"against\", \"all\", \"am\", \"an\", \"and\", \"any\", \"are\", \"as\", \"at\", \"be\", \"because\", \"been\", \"before\", \"being\", \"below\", \"between\", \"both\", \"but\", \"by\", \"could\", \"did\", \"do\", \"does\", \"doing\", \"down\", \"during\", \"each\", \"few\", \"for\", \"from\", \"further\", \"had\", \"has\", \"have\", \"having\", \"he\", \"he'd\", \"he'll\", \"he's\", \"her\", \"here\", \"here's\", \"hers\", \"herself\", \"him\", \"himself\", \"his\", \"how\", \"how's\", \"i\", \"i'd\", \"i'll\", \"i'm\", \"i've\", \"if\", \"in\", \"into\", \"is\", \"it\", \"it's\", \"its\", \"itself\", \"let's\", \"me\", \"more\", \"most\", \"my\", \"myself\", \"nor\", \"of\", \"on\", \"once\", \"only\", \"or\", \"other\", \"ought\", \"our\", \"ours\", \"ourselves\", \"out\", \"over\", \"own\", \"same\", \"she\", \"she'd\", \"she'll\", \"she's\", \"should\", \"so\", \"some\", \"such\", \"than\", \"that\", \"that's\", \"the\", \"their\", \"theirs\", \"them\", \"themselves\", \"then\", \"there\", \"there's\", \"these\", \"they\", \"they'd\", \"they'll\", \"they're\", \"they've\", \"this\", \"those\", \"through\", \"to\", \"too\", \"under\", \"until\", \"up\", \"very\", \"was\", \"we\", \"we'd\", \"we'll\", \"we're\", \"we've\", \"were\", \"what\", \"what's\", \"when\", \"when's\", \"where\", \"where's\", \"which\", \"while\", \"who\", \"who's\", \"whom\", \"why\", \"why's\", \"with\", \"would\", \"you\", \"you'd\", \"you'll\", \"you're\", \"you've\", \"your\", \"yours\", \"yourself\", \"yourselves\" ]"
   ]
  },
  {
   "cell_type": "code",
   "execution_count": 2,
   "metadata": {
    "execution": {
     "iopub.execute_input": "2020-09-02T13:03:30.682132Z",
     "iopub.status.busy": "2020-09-02T13:03:30.681285Z",
     "iopub.status.idle": "2020-09-02T13:03:31.030744Z",
     "shell.execute_reply": "2020-09-02T13:03:31.030103Z"
    },
    "papermill": {
     "duration": 0.366584,
     "end_time": "2020-09-02T13:03:31.030877",
     "exception": false,
     "start_time": "2020-09-02T13:03:30.664293",
     "status": "completed"
    },
    "tags": []
   },
   "outputs": [
    {
     "name": "stdout",
     "output_type": "stream",
     "text": [
      "      category filename                              title  \\\n",
      "0     business  001.txt  Ad sales boost Time Warner profit   \n",
      "1     business  002.txt   Dollar gains on Greenspan speech   \n",
      "2     business  003.txt  Yukos unit buyer faces loan claim   \n",
      "3     business  004.txt  High fuel prices hit BA's profits   \n",
      "4     business  005.txt  Pernod takeover talk lifts Domecq   \n",
      "...        ...      ...                                ...   \n",
      "2220      tech  397.txt   BT program to beat dialler scams   \n",
      "2221      tech  398.txt    Spam e-mails tempt net shoppers   \n",
      "2222      tech  399.txt            Be careful how you code   \n",
      "2223      tech  400.txt    US cyber security chief resigns   \n",
      "2224      tech  401.txt   Losing yourself in online gaming   \n",
      "\n",
      "                                                content  \n",
      "0      Quarterly profits at US media giant TimeWarne...  \n",
      "1      The dollar has hit its highest level against ...  \n",
      "2      The owners of embattled Russian oil giant Yuk...  \n",
      "3      British Airways has blamed high fuel prices f...  \n",
      "4      Shares in UK drinks and food firm Allied Dome...  \n",
      "...                                                 ...  \n",
      "2220   BT is introducing two initiatives to help bea...  \n",
      "2221   Computer users across the world continue to i...  \n",
      "2222   A new European directive could put software w...  \n",
      "2223   The man making sure US computer networks are ...  \n",
      "2224   Online role playing games are time-consuming,...  \n",
      "\n",
      "[2225 rows x 4 columns]\n"
     ]
    },
    {
     "data": {
      "text/plain": [
       "<matplotlib.axes._subplots.AxesSubplot at 0x7fcd72ec3ed0>"
      ]
     },
     "execution_count": 2,
     "metadata": {},
     "output_type": "execute_result"
    },
    {
     "data": {
      "image/png": "[encoded data removed]",
      "text/plain": [
       "<Figure size 432x288 with 1 Axes>"
      ]
     },
     "metadata": {
      "needs_background": "light"
     },
     "output_type": "display_data"
    }
   ],
   "source": [
    "# read the csv file\n",
    "\n",
    "df = pd.read_csv(\"bbc-news-data.csv\", sep=\"\\t\")\n",
    "\n",
    "print(df)\n",
    "\n",
    "df[\"category\"].hist()"
   ]
  },
  {
   "cell_type": "code",
   "execution_count": 3,
   "metadata": {
    "execution": {
     "iopub.execute_input": "2020-09-02T13:03:31.060142Z",
     "iopub.status.busy": "2020-09-02T13:03:31.059233Z",
     "iopub.status.idle": "2020-09-02T13:03:31.071769Z",
     "shell.execute_reply": "2020-09-02T13:03:31.071084Z"
    },
    "papermill": {
     "duration": 0.034988,
     "end_time": "2020-09-02T13:03:31.071897",
     "exception": false,
     "start_time": "2020-09-02T13:03:31.036909",
     "status": "completed"
    },
    "tags": []
   },
   "outputs": [
    {
     "data": {
      "text/html": [
       "<div>\n",
       "<style scoped>\n",
       "    .dataframe tbody tr th:only-of-type {\n",
       "        vertical-align: middle;\n",
       "    }\n",
       "\n",
       "    .dataframe tbody tr th {\n",
       "        vertical-align: top;\n",
       "    }\n",
       "\n",
       "    .dataframe thead th {\n",
       "        text-align: right;\n",
       "    }\n",
       "</style>\n",
       "<table border=\"1\" class=\"dataframe\">\n",
       "  <thead>\n",
       "    <tr style=\"text-align: right;\">\n",
       "      <th></th>\n",
       "      <th>category</th>\n",
       "      <th>filename</th>\n",
       "      <th>title</th>\n",
       "      <th>content</th>\n",
       "    </tr>\n",
       "  </thead>\n",
       "  <tbody>\n",
       "    <tr>\n",
       "      <th>0</th>\n",
       "      <td>sport</td>\n",
       "      <td>385.txt</td>\n",
       "      <td>Lions blow to World Cup stars</td>\n",
       "      <td>British and Irish Lions coach Clive Woodward ...</td>\n",
       "    </tr>\n",
       "    <tr>\n",
       "      <th>1</th>\n",
       "      <td>tech</td>\n",
       "      <td>339.txt</td>\n",
       "      <td>Hotspot users gain free net calls</td>\n",
       "      <td>People using wireless net hotspots will soon ...</td>\n",
       "    </tr>\n",
       "    <tr>\n",
       "      <th>2</th>\n",
       "      <td>tech</td>\n",
       "      <td>236.txt</td>\n",
       "      <td>Google to scan famous libraries</td>\n",
       "      <td>The libraries of five of the world's most imp...</td>\n",
       "    </tr>\n",
       "    <tr>\n",
       "      <th>3</th>\n",
       "      <td>entertainment</td>\n",
       "      <td>020.txt</td>\n",
       "      <td>Public show for Reynolds portrait</td>\n",
       "      <td>Sir Joshua Reynolds' Portrait of Omai will ge...</td>\n",
       "    </tr>\n",
       "    <tr>\n",
       "      <th>4</th>\n",
       "      <td>politics</td>\n",
       "      <td>068.txt</td>\n",
       "      <td>MPs to debate 'euthanasia laws'</td>\n",
       "      <td>MPs are preparing to debate a bill which crit...</td>\n",
       "    </tr>\n",
       "    <tr>\n",
       "      <th>...</th>\n",
       "      <td>...</td>\n",
       "      <td>...</td>\n",
       "      <td>...</td>\n",
       "      <td>...</td>\n",
       "    </tr>\n",
       "    <tr>\n",
       "      <th>2220</th>\n",
       "      <td>entertainment</td>\n",
       "      <td>191.txt</td>\n",
       "      <td>Little Britain vies for TV trophy</td>\n",
       "      <td>BBC hits Little Britain and Strictly Come Dan...</td>\n",
       "    </tr>\n",
       "    <tr>\n",
       "      <th>2221</th>\n",
       "      <td>entertainment</td>\n",
       "      <td>120.txt</td>\n",
       "      <td>'My memories of Marley...'</td>\n",
       "      <td>To mark the 60th anniversary of the birth of ...</td>\n",
       "    </tr>\n",
       "    <tr>\n",
       "      <th>2222</th>\n",
       "      <td>entertainment</td>\n",
       "      <td>284.txt</td>\n",
       "      <td>DJ double act revamp chart show</td>\n",
       "      <td>DJ duo JK and Joel are taking over BBC Radio ...</td>\n",
       "    </tr>\n",
       "    <tr>\n",
       "      <th>2223</th>\n",
       "      <td>business</td>\n",
       "      <td>059.txt</td>\n",
       "      <td>Worldcom ex-boss launches defence</td>\n",
       "      <td>Lawyers defending former WorldCom chief Berni...</td>\n",
       "    </tr>\n",
       "    <tr>\n",
       "      <th>2224</th>\n",
       "      <td>sport</td>\n",
       "      <td>210.txt</td>\n",
       "      <td>Tevez - an Argentine in Brazil</td>\n",
       "      <td>Some 65 years ago Bernardo Gandulla left Boca...</td>\n",
       "    </tr>\n",
       "  </tbody>\n",
       "</table>\n",
       "<p>2225 rows × 4 columns</p>\n",
       "</div>"
      ],
      "text/plain": [
       "           category filename                              title  \\\n",
       "0             sport  385.txt      Lions blow to World Cup stars   \n",
       "1              tech  339.txt  Hotspot users gain free net calls   \n",
       "2              tech  236.txt    Google to scan famous libraries   \n",
       "3     entertainment  020.txt  Public show for Reynolds portrait   \n",
       "4          politics  068.txt    MPs to debate 'euthanasia laws'   \n",
       "...             ...      ...                                ...   \n",
       "2220  entertainment  191.txt  Little Britain vies for TV trophy   \n",
       "2221  entertainment  120.txt         'My memories of Marley...'   \n",
       "2222  entertainment  284.txt    DJ double act revamp chart show   \n",
       "2223       business  059.txt  Worldcom ex-boss launches defence   \n",
       "2224          sport  210.txt     Tevez - an Argentine in Brazil   \n",
       "\n",
       "                                                content  \n",
       "0      British and Irish Lions coach Clive Woodward ...  \n",
       "1      People using wireless net hotspots will soon ...  \n",
       "2      The libraries of five of the world's most imp...  \n",
       "3      Sir Joshua Reynolds' Portrait of Omai will ge...  \n",
       "4      MPs are preparing to debate a bill which crit...  \n",
       "...                                                 ...  \n",
       "2220   BBC hits Little Britain and Strictly Come Dan...  \n",
       "2221   To mark the 60th anniversary of the birth of ...  \n",
       "2222   DJ duo JK and Joel are taking over BBC Radio ...  \n",
       "2223   Lawyers defending former WorldCom chief Berni...  \n",
       "2224   Some 65 years ago Bernardo Gandulla left Boca...  \n",
       "\n",
       "[2225 rows x 4 columns]"
      ]
     },
     "execution_count": 3,
     "metadata": {},
     "output_type": "execute_result"
    }
   ],
   "source": [
    "# shuffle the dataframe to evenly distribute the labels\n",
    "\n",
    "df = df.sample(frac=1).reset_index(drop=True)\n",
    "df"
   ]
  },
  {
   "cell_type": "code",
   "execution_count": 4,
   "metadata": {
    "_cell_guid": "79c7e3d0-c299-4dcb-8224-4455121ee9b0",
    "_uuid": "d629ff2d2480ee46fbb7e2d37f6b5fab8052498a",
    "execution": {
     "iopub.execute_input": "2020-09-02T13:03:31.152362Z",
     "iopub.status.busy": "2020-09-02T13:03:31.116145Z",
     "iopub.status.idle": "2020-09-02T13:03:32.634540Z",
     "shell.execute_reply": "2020-09-02T13:03:32.633761Z"
    },
    "papermill": {
     "duration": 1.554779,
     "end_time": "2020-09-02T13:03:32.634682",
     "exception": false,
     "start_time": "2020-09-02T13:03:31.079903",
     "status": "completed"
    },
    "tags": []
   },
   "outputs": [
    {
     "name": "stdout",
     "output_type": "stream",
     "text": [
      "2225\n",
      "2225\n",
      "\n",
      "Content:  British Irish Lions coach Clive Woodward says unlikely select players not involved next year's RBS Six Nations Championship.  World Cup winners Lawrence Dallaglio, Neil Back Martin Johnson thought frame next summer's tour New Zealand. \"I don't think can ever say never,\" said Woodward. \"But I compulsive reason pick player not available international rugby.\" Dallaglio, Back Johnson retired international rugby last 12 months continue star club sides. But Woodward added: \"The key thing I want stress I intend use Six Nations players available international rugby key benchmark. \"My job, along senior representatives, make sure pick strongest possible team. \"If not playing international rugby still step Test rugby. It's definitely disadvantage.  \"I think absolutely critical history Lions got take players playing four countries.\" Woodward also revealed race captaincy still wide open. \"It open book,\" said. \"There outstanding candidates four countries.\" And following All Blacks' impressive displays Europe recent weeks, including 45-6 humiliation France, Woodward believes three-test series New Zealand will provide ultimate rugby challenge. \"Their performance particular France simply awesome,\" said Lions coach. \"Certain things suggested potency front five, powerful unit.\" With customary thoroughness, Woodward revealed taken soundings Australia coach Eddie Jones Jake White South Africa following tour matches Britain Ireland.  As result, Woodward stressed Lions group might not dominated players England Ireland held hope struggling Scots. \"Scotland's recent results not impressive excellent individual performances. \"Eddie particular told tough made Australia I will take board opinions.\" And Scotland forward Simon Taylor looks certain get call, provided recovers knee tendon problems. \"I took lessons 2001 make mistake taking Lawrence Dallaglio wasn't fit went trip. \"Every player looked merits Simon Taylor outstanding player I no doubts gets back full fitness will trip. \"I told back playing March plenty time prove fitness Lions - players like Richard Hill boat.\" \n",
      "\n",
      "Label: sport\n"
     ]
    }
   ],
   "source": [
    "content = []\n",
    "labels = []\n",
    "\n",
    "for label in df.category:\n",
    "    labels.append(label)\n",
    "    \n",
    "for con in df.content:\n",
    "    for word in stopwords:\n",
    "        token = \" \" + word + \" \"\n",
    "        con = con.replace(token, \" \")\n",
    "        con = con.replace(\" \", \" \")\n",
    "    content.append(con)\n",
    "\n",
    "print(len(content))\n",
    "print(len(labels))\n",
    "print(\"\\nContent:\", content[0])\n",
    "print(\"\\nLabel:\", labels[0])"
   ]
  },
  {
   "cell_type": "code",
   "execution_count": 5,
   "metadata": {
    "execution": {
     "iopub.execute_input": "2020-09-02T13:03:32.809997Z",
     "iopub.status.busy": "2020-09-02T13:03:32.790181Z",
     "iopub.status.idle": "2020-09-02T13:03:32.814888Z",
     "shell.execute_reply": "2020-09-02T13:03:32.815755Z"
    },
    "papermill": {
     "duration": 0.174891,
     "end_time": "2020-09-02T13:03:32.816001",
     "exception": false,
     "start_time": "2020-09-02T13:03:32.641110",
     "status": "completed"
    },
    "tags": []
   },
   "outputs": [
    {
     "name": "stdout",
     "output_type": "stream",
     "text": [
      "1900\n",
      "1900\n",
      "325\n",
      "325\n"
     ]
    }
   ],
   "source": [
    "# split the dataset into training set and test set\n",
    "\n",
    "train_content, test_content = content[:1900], content[1900:]\n",
    "train_labels, test_labels = labels[:1900], labels[1900:]\n",
    "\n",
    "train_content = np.array(train_content)\n",
    "test_content = np.array(test_content)\n",
    "\n",
    "train_labels = np.array(train_labels)\n",
    "test_labels = np.array(test_labels)\n",
    "\n",
    "print(len(train_content))\n",
    "print(len(train_labels))\n",
    "print(len(test_content))\n",
    "print(len(test_labels))"
   ]
  },
  {
   "cell_type": "code",
   "execution_count": 6,
   "metadata": {
    "execution": {
     "iopub.execute_input": "2020-09-02T13:03:32.838235Z",
     "iopub.status.busy": "2020-09-02T13:03:32.837098Z",
     "iopub.status.idle": "2020-09-02T13:03:32.843946Z",
     "shell.execute_reply": "2020-09-02T13:03:32.844604Z"
    },
    "papermill": {
     "duration": 0.021382,
     "end_time": "2020-09-02T13:03:32.844779",
     "exception": false,
     "start_time": "2020-09-02T13:03:32.823397",
     "status": "completed"
    },
    "tags": []
   },
   "outputs": [
    {
     "name": "stdout",
     "output_type": "stream",
     "text": [
      "Training set labels:\n",
      "['business' 'entertainment' 'politics' 'sport' 'tech']\n",
      "[433 324 358 440 345]\n",
      "\n",
      "Test set labels:\n",
      "['business' 'entertainment' 'politics' 'sport' 'tech']\n",
      "[77 62 59 71 56]\n"
     ]
    }
   ],
   "source": [
    "# check the distribution of labels in the training set and test set\n",
    "\n",
    "unique_train_content, number_train_content = np.unique(train_labels, return_counts=True)\n",
    "\n",
    "print(\"Training set labels:\")\n",
    "print(unique_train_content)\n",
    "print(number_train_content)\n",
    "\n",
    "unique_test_content, number_test_content = np.unique(test_labels, return_counts=True)\n",
    "\n",
    "print(\"\\nTest set labels:\")\n",
    "print(unique_test_content)\n",
    "print(number_test_content)"
   ]
  },
  {
   "cell_type": "code",
   "execution_count": 7,
   "metadata": {
    "execution": {
     "iopub.execute_input": "2020-09-02T13:03:32.903736Z",
     "iopub.status.busy": "2020-09-02T13:03:32.866972Z",
     "iopub.status.idle": "2020-09-02T13:03:34.444704Z",
     "shell.execute_reply": "2020-09-02T13:03:34.443976Z"
    },
    "papermill": {
     "duration": 1.593187,
     "end_time": "2020-09-02T13:03:34.444837",
     "exception": false,
     "start_time": "2020-09-02T13:03:32.851650",
     "status": "completed"
    },
    "tags": []
   },
   "outputs": [
    {
     "name": "stdout",
     "output_type": "stream",
     "text": [
      "(325, 200)\n"
     ]
    }
   ],
   "source": [
    "# tokenize the content\n",
    "\n",
    "vocab_size = 10000\n",
    "embedding_dim = 32\n",
    "max_len = 200\n",
    "trunc_type = \"post\"\n",
    "oov_tok = \"<OOV>\"\n",
    "\n",
    "tokenizer = Tokenizer(num_words=vocab_size, oov_token=oov_tok)\n",
    "tokenizer.fit_on_texts(train_content)\n",
    "\n",
    "word_index = tokenizer.word_index\n",
    "\n",
    "sequences = tokenizer.texts_to_sequences(train_content)\n",
    "padded = pad_sequences(sequences, maxlen=max_len, truncating=trunc_type)\n",
    "\n",
    "test_sequences = tokenizer.texts_to_sequences(test_content)\n",
    "test_padded = pad_sequences(test_sequences, maxlen=max_len, truncating=trunc_type)\n",
    "\n",
    "print(test_padded.shape)"
   ]
  },
  {
   "cell_type": "code",
   "execution_count": 8,
   "metadata": {
    "execution": {
     "iopub.execute_input": "2020-09-02T13:03:34.478055Z",
     "iopub.status.busy": "2020-09-02T13:03:34.472971Z",
     "iopub.status.idle": "2020-09-02T13:03:34.521916Z",
     "shell.execute_reply": "2020-09-02T13:03:34.521218Z"
    },
    "papermill": {
     "duration": 0.070131,
     "end_time": "2020-09-02T13:03:34.522068",
     "exception": false,
     "start_time": "2020-09-02T13:03:34.451937",
     "status": "completed"
    },
    "tags": []
   },
   "outputs": [
    {
     "name": "stdout",
     "output_type": "stream",
     "text": [
      "(1900, 1)\n",
      "(325, 1)\n"
     ]
    }
   ],
   "source": [
    "# tokenize the labels\n",
    "\n",
    "label_tokenizer = Tokenizer()\n",
    "label_tokenizer.fit_on_texts(labels)\n",
    "\n",
    "label_index = label_tokenizer.word_index\n",
    "\n",
    "label_sequences = np.array(label_tokenizer.texts_to_sequences(train_labels))\n",
    "\n",
    "test_label_sequences = np.array(label_tokenizer.texts_to_sequences(test_labels))\n",
    "\n",
    "print(label_sequences.shape)\n",
    "print(test_label_sequences.shape)"
   ]
  },
  {
   "cell_type": "code",
   "execution_count": 9,
   "metadata": {
    "execution": {
     "iopub.execute_input": "2020-09-02T13:03:34.545481Z",
     "iopub.status.busy": "2020-09-02T13:03:34.544550Z",
     "iopub.status.idle": "2020-09-02T13:03:35.417333Z",
     "shell.execute_reply": "2020-09-02T13:03:35.416494Z"
    },
    "papermill": {
     "duration": 0.88812,
     "end_time": "2020-09-02T13:03:35.417467",
     "exception": false,
     "start_time": "2020-09-02T13:03:34.529347",
     "status": "completed"
    },
    "tags": []
   },
   "outputs": [
    {
     "name": "stdout",
     "output_type": "stream",
     "text": [
      "Model: \"sequential\"\n",
      "_________________________________________________________________\n",
      "Layer (type)                 Output Shape              Param #   \n",
      "=================================================================\n",
      "embedding (Embedding)        (None, 200, 32)           320000    \n",
      "_________________________________________________________________\n",
      "global_average_pooling1d (Gl (None, 32)                0         \n",
      "_________________________________________________________________\n",
      "dense (Dense)                (None, 128)               4224      \n",
      "_________________________________________________________________\n",
      "dense_1 (Dense)              (None, 6)                 774       \n",
      "=================================================================\n",
      "Total params: 324,998\n",
      "Trainable params: 324,998\n",
      "Non-trainable params: 0\n",
      "_________________________________________________________________\n"
     ]
    },
    {
     "data": {
      "image/png": "[encoded data removed]",
      "text/plain": [
       "<IPython.core.display.Image object>"
      ]
     },
     "execution_count": 9,
     "metadata": {},
     "output_type": "execute_result"
    }
   ],
   "source": [
    "# define an NN model\n",
    "\n",
    "model = keras.Sequential([layers.Embedding(vocab_size, embedding_dim, input_length=max_len),\n",
    "                        \n",
    "                         layers.GlobalAveragePooling1D(), #simpler and faster than Flatten()\n",
    "                         layers.Dense(128, activation=\"relu\"),\n",
    "                         layers.Dense(6, activation=\"softmax\")])\n",
    "\n",
    "model.compile(loss=\"sparse_categorical_crossentropy\", optimizer=\"adam\", metrics=[\"accuracy\"])\n",
    "\n",
    "model.summary()\n",
    "keras.utils.plot_model(model)"
   ]
  },
  {
   "cell_type": "code",
   "execution_count": 10,
   "metadata": {
    "execution": {
     "iopub.execute_input": "2020-09-02T13:03:35.441120Z",
     "iopub.status.busy": "2020-09-02T13:03:35.440272Z",
     "iopub.status.idle": "2020-09-02T13:03:39.685800Z",
     "shell.execute_reply": "2020-09-02T13:03:39.684920Z"
    },
    "papermill": {
     "duration": 4.260464,
     "end_time": "2020-09-02T13:03:39.685944",
     "exception": false,
     "start_time": "2020-09-02T13:03:35.425480",
     "status": "completed"
    },
    "tags": []
   },
   "outputs": [
    {
     "name": "stdout",
     "output_type": "stream",
     "text": [
      "Epoch 1/10\n",
      "60/60 [==============================] - 0s 8ms/step - loss: 1.7108 - accuracy: 0.2574 - val_loss: 1.5797 - val_accuracy: 0.4000\n",
      "Epoch 2/10\n",
      "60/60 [==============================] - 0s 5ms/step - loss: 1.3536 - accuracy: 0.6205 - val_loss: 1.1464 - val_accuracy: 0.6585\n",
      "Epoch 3/10\n",
      "60/60 [==============================] - 0s 5ms/step - loss: 0.8174 - accuracy: 0.8658 - val_loss: 0.6315 - val_accuracy: 0.9231\n",
      "Epoch 4/10\n",
      "60/60 [==============================] - 0s 5ms/step - loss: 0.3654 - accuracy: 0.9742 - val_loss: 0.3297 - val_accuracy: 0.9508\n",
      "Epoch 5/10\n",
      "60/60 [==============================] - 0s 5ms/step - loss: 0.1634 - accuracy: 0.9900 - val_loss: 0.2113 - val_accuracy: 0.9569\n",
      "Epoch 6/10\n",
      "60/60 [==============================] - 0s 5ms/step - loss: 0.0878 - accuracy: 0.9942 - val_loss: 0.1621 - val_accuracy: 0.9538\n",
      "Epoch 7/10\n",
      "60/60 [==============================] - 0s 5ms/step - loss: 0.0534 - accuracy: 0.9968 - val_loss: 0.1331 - val_accuracy: 0.9569\n",
      "Epoch 8/10\n",
      "60/60 [==============================] - 0s 5ms/step - loss: 0.0346 - accuracy: 0.9995 - val_loss: 0.1172 - val_accuracy: 0.9508\n",
      "Epoch 9/10\n",
      "60/60 [==============================] - 0s 5ms/step - loss: 0.0238 - accuracy: 0.9995 - val_loss: 0.1087 - val_accuracy: 0.9600\n",
      "Epoch 10/10\n",
      "60/60 [==============================] - 0s 5ms/step - loss: 0.0172 - accuracy: 1.0000 - val_loss: 0.1007 - val_accuracy: 0.9600\n"
     ]
    }
   ],
   "source": [
    "# train the model\n",
    "\n",
    "num_epochs = 10\n",
    "\n",
    "history = model.fit(padded,\n",
    "                   label_sequences,\n",
    "                   epochs=num_epochs,\n",
    "                   validation_data = (test_padded, test_label_sequences))"
   ]
  },
  {
   "cell_type": "code",
   "execution_count": 11,
   "metadata": {
    "execution": {
     "iopub.execute_input": "2020-09-02T13:03:39.728220Z",
     "iopub.status.busy": "2020-09-02T13:03:39.721779Z",
     "iopub.status.idle": "2020-09-02T13:03:40.116200Z",
     "shell.execute_reply": "2020-09-02T13:03:40.115562Z"
    },
    "papermill": {
     "duration": 0.417719,
     "end_time": "2020-09-02T13:03:40.116324",
     "exception": false,
     "start_time": "2020-09-02T13:03:39.698605",
     "status": "completed"
    },
    "tags": []
   },
   "outputs": [
    {
     "data": {
      "image/png": "[encoded data removed]",
      "text/plain": [
       "<Figure size 432x288 with 1 Axes>"
      ]
     },
     "metadata": {
      "needs_background": "light"
     },
     "output_type": "display_data"
    },
    {
     "data": {
      "image/png": "[encoded data removed]",
      "text/plain": [
       "<Figure size 432x288 with 1 Axes>"
      ]
     },
     "metadata": {
      "needs_background": "light"
     },
     "output_type": "display_data"
    }
   ],
   "source": [
    "# plot accuracy and loss\n",
    "\n",
    "acc = history.history[\"accuracy\"]\n",
    "val_acc = history.history[\"val_accuracy\"]\n",
    "loss = history.history[\"loss\"]\n",
    "val_loss = history.history[\"val_loss\"]\n",
    "\n",
    "epochs = range(1, len(acc) + 1)\n",
    "\n",
    "# accuracy\n",
    "\n",
    "plt.plot(epochs, acc, \"b\", label=\"Training accuracy\")\n",
    "plt.plot(epochs, val_acc, \"b--\", label=\"Validation accuracy\")\n",
    "plt.title(\"Training and validation accuracy\")\n",
    "plt.legend()\n",
    "plt.show()\n",
    "\n",
    "# loss\n",
    "\n",
    "plt.plot(epochs, loss, \"r\", label=\"Training loss\")\n",
    "plt.plot(epochs, val_loss, \"r--\", label=\"Validation loss\")\n",
    "plt.title(\"Training and validation loss\")\n",
    "plt.legend()\n",
    "plt.show()"
   ]
  }
 ],
 "metadata": {
  "kernelspec": {
   "display_name": "Python 3.10.8 64-bit",
   "language": "python",
   "name": "python3"
  },
  "language_info": {
   "codemirror_mode": {
    "name": "ipython",
    "version": 3
   },
   "file_extension": ".py",
   "mimetype": "text/x-python",
   "name": "python",
   "nbconvert_exporter": "python",
   "pygments_lexer": "ipython3",
   "version": "3.10.8"
  },
  "papermill": {
   "duration": 22.481396,
   "end_time": "2020-09-02T13:03:40.262624",
   "environment_variables": {},
   "exception": null,
   "input_path": "__notebook__.ipynb",
   "output_path": "__notebook__.ipynb",
   "parameters": {},
   "start_time": "2020-09-02T13:03:17.781228",
   "version": "2.1.0"
  },
  "vscode": {
   "interpreter": {
    "hash": "7e1998ff7f8aa20ada591c520b972326324e5ea05489af9e422744c7c09f6dad"
   }
  }
 },
 "nbformat": 4,
 "nbformat_minor": 4
}
